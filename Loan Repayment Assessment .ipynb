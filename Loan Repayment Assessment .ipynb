{
 "cells": [
  {
   "cell_type": "markdown",
   "id": "354398c4",
   "metadata": {},
   "source": [
    "## 1) Importing Libraries"
   ]
  },
  {
   "cell_type": "code",
   "execution_count": null,
   "id": "510e9c3d",
   "metadata": {},
   "outputs": [],
   "source": [
    "import numpy as np\n",
    "import pandas as pd\n",
    "from matplotlib import pyplot as plt\n",
    "import seaborn as sns\n",
    "import os"
   ]
  },
  {
   "cell_type": "code",
   "execution_count": null,
   "id": "76262a97",
   "metadata": {},
   "outputs": [],
   "source": [
    "#changing the working directory\n",
    "os.chdir(\"C://Users//HP//OneDrive//Desktop//Machine learning\")"
   ]
  },
  {
   "cell_type": "code",
   "execution_count": null,
   "id": "f5d9f3e9",
   "metadata": {},
   "outputs": [],
   "source": [
    "# importing the dataset\n",
    "df=pd.read_csv(\"train_loan_data.csv\")"
   ]
  },
  {
   "cell_type": "markdown",
   "id": "39c76c5d",
   "metadata": {},
   "source": [
    "# Data Preparation\n",
    " 1.1)Understainding the data <br>\n",
    " 1.2)Descriptive Statistics <br>\n",
    " 1.3)Exploratory Data Analysis <br>\n",
    " 1.4)Outlier Treatment <br>\n",
    " 1.5)Missing value Treatment <br>\n",
    " 1.6)Encoding <br>\n",
    " 1.7)Splitting the data into Train and Test"
   ]
  },
  {
   "cell_type": "markdown",
   "id": "36d41b10",
   "metadata": {},
   "source": [
    "## 1.1) Understanding the Data"
   ]
  },
  {
   "cell_type": "code",
   "execution_count": null,
   "id": "0732b905",
   "metadata": {},
   "outputs": [],
   "source": [
    "# first five rows of the dataset\n",
    "df.head()"
   ]
  },
  {
   "cell_type": "code",
   "execution_count": null,
   "id": "26582e5f",
   "metadata": {},
   "outputs": [],
   "source": [
    "#length of the dataframe\n",
    "len(df)"
   ]
  },
  {
   "cell_type": "code",
   "execution_count": null,
   "id": "1cff3027",
   "metadata": {},
   "outputs": [],
   "source": [
    "# shape of the dataframe\n",
    "df.shape"
   ]
  },
  {
   "cell_type": "code",
   "execution_count": null,
   "id": "1e44d913",
   "metadata": {},
   "outputs": [],
   "source": [
    "# No. of columns in dataframe\n",
    "df.columns"
   ]
  },
  {
   "cell_type": "code",
   "execution_count": null,
   "id": "45761f5d",
   "metadata": {},
   "outputs": [],
   "source": [
    "# Count of total no. of columns\n",
    "len(df.columns)"
   ]
  },
  {
   "cell_type": "code",
   "execution_count": null,
   "id": "5dfb4f69",
   "metadata": {},
   "outputs": [],
   "source": [
    "#No. of duplicate values\n",
    "df.duplicated().sum()"
   ]
  },
  {
   "cell_type": "markdown",
   "id": "67e0ccf5",
   "metadata": {},
   "source": [
    "## 1.2) Descriptive Statistics"
   ]
  },
  {
   "cell_type": "code",
   "execution_count": null,
   "id": "7f1b249f",
   "metadata": {},
   "outputs": [],
   "source": [
    "# Missing values and dtypes of columns\n",
    "df.info()"
   ]
  },
  {
   "cell_type": "markdown",
   "id": "b24453f7",
   "metadata": {},
   "source": [
    "##### Columns such as  \n",
    "emp_length, emp_title, num_actv_bc_tl, mort_acc, tot_cur_bal, pub_rec_bankruptcies, revol_util, title <br> \n",
    "Have some missing Values"
   ]
  },
  {
   "cell_type": "code",
   "execution_count": null,
   "id": "9dbe73ba",
   "metadata": {},
   "outputs": [],
   "source": [
    "# Statistic analysis\n",
    "df.describe()"
   ]
  },
  {
   "cell_type": "markdown",
   "id": "72920f71",
   "metadata": {},
   "source": [
    "##### Outliers are present in the dataset"
   ]
  },
  {
   "cell_type": "code",
   "execution_count": null,
   "id": "2c6bee7d",
   "metadata": {},
   "outputs": [],
   "source": [
    "# object columns\n",
    "df.describe(include=\"O\")"
   ]
  },
  {
   "cell_type": "markdown",
   "id": "ea9fe59f",
   "metadata": {},
   "source": [
    "## 1.3) Exploratory Data Analysis"
   ]
  },
  {
   "cell_type": "code",
   "execution_count": null,
   "id": "16cf9ebc",
   "metadata": {},
   "outputs": [],
   "source": [
    "plt.figure(figsize=(15,5))\n",
    "sns.barplot(data=df,x=\"annual_inc\",y=\"loan_status\")\n",
    "plt.show()"
   ]
  },
  {
   "cell_type": "code",
   "execution_count": null,
   "id": "01a92c10",
   "metadata": {},
   "outputs": [],
   "source": [
    "plt.figure(figsize=(15,5))\n",
    "sns.barplot(data=df,x=\"fico_range_high\",y=\"loan_status\")\n",
    "plt.show()"
   ]
  },
  {
   "cell_type": "code",
   "execution_count": null,
   "id": "b417796a",
   "metadata": {},
   "outputs": [],
   "source": [
    "plt.figure(figsize=(15,5))\n",
    "sns.barplot(data=df,x=\"fico_range_low\",y=\"loan_status\")\n",
    "plt.show()"
   ]
  },
  {
   "cell_type": "code",
   "execution_count": null,
   "id": "9fc27d5d",
   "metadata": {},
   "outputs": [],
   "source": [
    "plt.figure(figsize=(15,5))\n",
    "sns.barplot(data=df,x=\"int_rate\",y=\"loan_status\")\n",
    "plt.show()"
   ]
  },
  {
   "cell_type": "code",
   "execution_count": null,
   "id": "42e5c850",
   "metadata": {},
   "outputs": [],
   "source": [
    "plt.figure(figsize=(15,5))\n",
    "sns.barplot(data=df,x=\"loan_amnt\",y=\"loan_status\")\n",
    "plt.show()"
   ]
  },
  {
   "cell_type": "code",
   "execution_count": null,
   "id": "d0c45dcf",
   "metadata": {},
   "outputs": [],
   "source": [
    "plt.figure(figsize=(15,5))\n",
    "sns.barplot(data=df,x=\"num_actv_bc_tl\",y=\"loan_status\")\n",
    "plt.show()"
   ]
  },
  {
   "cell_type": "code",
   "execution_count": null,
   "id": "9e4063f0",
   "metadata": {},
   "outputs": [],
   "source": [
    "plt.figure(figsize=(15,5))\n",
    "sns.barplot(data=df,x=\"mort_acc\",y=\"loan_status\")\n",
    "plt.show()"
   ]
  },
  {
   "cell_type": "code",
   "execution_count": null,
   "id": "07bbe623",
   "metadata": {},
   "outputs": [],
   "source": [
    "plt.figure(figsize=(15,5))\n",
    "sns.barplot(data=df,x=\"tot_cur_bal\",y=\"loan_status\")\n",
    "plt.show()"
   ]
  },
  {
   "cell_type": "code",
   "execution_count": null,
   "id": "f30c1f78",
   "metadata": {},
   "outputs": [],
   "source": [
    "plt.figure(figsize=(15,5))\n",
    "sns.barplot(data=df,x=\"open_acc\",y=\"loan_status\")\n",
    "plt.show()"
   ]
  },
  {
   "cell_type": "code",
   "execution_count": null,
   "id": "eb39b9a0",
   "metadata": {},
   "outputs": [],
   "source": [
    "plt.figure(figsize=(15,5))\n",
    "sns.barplot(data=df,x=\"pub_rec\",y=\"loan_status\")\n",
    "plt.show()"
   ]
  },
  {
   "cell_type": "code",
   "execution_count": null,
   "id": "c46c3fbc",
   "metadata": {},
   "outputs": [],
   "source": [
    "plt.figure(figsize=(15,5))\n",
    "sns.barplot(data=df,x=\"pub_rec_bankruptcies\",y=\"loan_status\")\n",
    "plt.show()"
   ]
  },
  {
   "cell_type": "code",
   "execution_count": null,
   "id": "de8969f1",
   "metadata": {},
   "outputs": [],
   "source": [
    "plt.figure(figsize=(15,5))\n",
    "sns.barplot(data=df,x=\"revol_bal\",y=\"loan_status\")\n",
    "plt.show()"
   ]
  },
  {
   "cell_type": "code",
   "execution_count": null,
   "id": "f2cfbe2e",
   "metadata": {},
   "outputs": [],
   "source": [
    "plt.figure(figsize=(15,5))\n",
    "sns.barplot(data=df,x=\"revol_util\",y=\"loan_status\")\n",
    "plt.show()"
   ]
  },
  {
   "cell_type": "code",
   "execution_count": null,
   "id": "0117c0bf",
   "metadata": {},
   "outputs": [],
   "source": [
    "plt.figure(figsize=(15,5))\n",
    "sns.barplot(data=df,x=\"total_acc\",y=\"loan_status\")\n",
    "plt.show()"
   ]
  },
  {
   "cell_type": "markdown",
   "id": "3dba1507",
   "metadata": {},
   "source": [
    "## 1.4) Outlier Treatment"
   ]
  },
  {
   "cell_type": "code",
   "execution_count": null,
   "id": "7e478b77",
   "metadata": {},
   "outputs": [],
   "source": [
    "def outlier_treatment(dataframe):\n",
    "    Q1=dataframe.quantile(0.25)\n",
    "    Q3=dataframe.quantile(0.75)\n",
    "    IQR=Q3-Q1\n",
    "\n",
    "    df_rem_out=dataframe[~((dataframe<(Q1-1.5*IQR))|(dataframe>(Q3+1.5*IQR))).any(axis=1)]\n",
    "    \n",
    "    return df_rem_out\n",
    " \n",
    "df=outlier_treatment(df)\n",
    "                           "
   ]
  },
  {
   "cell_type": "code",
   "execution_count": null,
   "id": "4bca9a26",
   "metadata": {},
   "outputs": [],
   "source": [
    "len(df)"
   ]
  },
  {
   "cell_type": "markdown",
   "id": "81a14250",
   "metadata": {},
   "source": [
    "## 1.6) Encoding"
   ]
  },
  {
   "cell_type": "code",
   "execution_count": null,
   "id": "3e7d5318",
   "metadata": {},
   "outputs": [],
   "source": [
    "# Separating the numerical and categorical columns\n",
    "def data_type(df):\n",
    "    numerical = []\n",
    "    categorical = []\n",
    "    for i in df.columns:\n",
    "        if df[i].dtype == 'int64' or df[i].dtype == 'float64':\n",
    "            numerical.append(i)\n",
    "        else:\n",
    "            categorical.append(i)\n",
    "    return numerical, categorical\n",
    "\n",
    "\n",
    "numerical, categorical = data_type(df)\n",
    "\n",
    "# Identifying the binary columns and ignoring them from scaling\n",
    "def binary_columns(df):\n",
    "    binary_cols = []\n",
    "    for col in df.select_dtypes(include=['int', 'float']).columns:\n",
    "        unique_values = df[col].unique()\n",
    "        if np.in1d(unique_values, [0, 1]).all():\n",
    "            binary_cols.append(col)\n",
    "    return binary_cols\n",
    "\n",
    "binary_cols = binary_columns(df)\n",
    "\n",
    "# Remove the binary columns from the numerical columns\n",
    "numerical = [i for i in numerical if i not in binary_cols]\n",
    "\n",
    "def encoding(df, categorical):\n",
    "    for i in categorical:\n",
    "        df[i] = df[i].astype('category')\n",
    "        df[i] = df[i].cat.codes\n",
    "    return df\n",
    "\n",
    "df = encoding(df, categorical)"
   ]
  },
  {
   "cell_type": "markdown",
   "id": "f2002db0",
   "metadata": {},
   "source": [
    "## 1.5) Missing value Treatment"
   ]
  },
  {
   "cell_type": "code",
   "execution_count": null,
   "id": "d79f2298",
   "metadata": {},
   "outputs": [],
   "source": [
    "df.isnull().sum()/len(df)*100"
   ]
  },
  {
   "cell_type": "code",
   "execution_count": null,
   "id": "d676507d",
   "metadata": {},
   "outputs": [],
   "source": [
    "def missing_value_imputation(df, numerical, categorical):\n",
    "    for i in numerical:\n",
    "        df[i]= df[i].fillna(df[i].mean())\n",
    "    for i in categorical:\n",
    "        df[i] = df[i].fillna(df[i].mode())\n",
    "    return df\n",
    "\n",
    "df = missing_value_imputation(df, numerical, categorical)"
   ]
  },
  {
   "cell_type": "code",
   "execution_count": null,
   "id": "c2db92d3",
   "metadata": {},
   "outputs": [],
   "source": [
    "# checking the missing values\n",
    "df.isnull().sum()"
   ]
  },
  {
   "cell_type": "markdown",
   "id": "5f0b609a",
   "metadata": {},
   "source": [
    "### Feature scaling"
   ]
  },
  {
   "cell_type": "code",
   "execution_count": null,
   "id": "76a4ded3",
   "metadata": {},
   "outputs": [],
   "source": [
    "## feature scaling \n",
    "from sklearn.preprocessing import StandardScaler\n",
    "\n",
    "def feature_scaling(df, numerical):\n",
    "    sc_x = StandardScaler()\n",
    "    df[numerical] = sc_x.fit_transform(df[numerical])\n",
    "    return df\n",
    "\n",
    "df = feature_scaling(df, numerical)"
   ]
  },
  {
   "cell_type": "markdown",
   "id": "41af6ddf",
   "metadata": {},
   "source": [
    "## 1.7)Splitting the data"
   ]
  },
  {
   "cell_type": "code",
   "execution_count": null,
   "id": "db4f3b7c",
   "metadata": {},
   "outputs": [],
   "source": [
    "X=df.iloc[:,range(0,26)].values"
   ]
  },
  {
   "cell_type": "code",
   "execution_count": null,
   "id": "7b3ead3f",
   "metadata": {},
   "outputs": [],
   "source": [
    "X"
   ]
  },
  {
   "cell_type": "code",
   "execution_count": null,
   "id": "3333fb98",
   "metadata": {},
   "outputs": [],
   "source": [
    "y=df.iloc[:,27].values\n",
    "y"
   ]
  },
  {
   "cell_type": "code",
   "execution_count": null,
   "id": "08b45c83",
   "metadata": {},
   "outputs": [],
   "source": [
    "from sklearn.model_selection import train_test_split\n",
    "X_train,X_test,y_train,y_test=train_test_split(X,y,test_size=0.2,random_state=42)"
   ]
  },
  {
   "cell_type": "markdown",
   "id": "28ba92cc",
   "metadata": {},
   "source": [
    "# 3)Model Building"
   ]
  },
  {
   "cell_type": "markdown",
   "id": "430d40b4",
   "metadata": {},
   "source": [
    "## Logistic Regression Model"
   ]
  },
  {
   "cell_type": "code",
   "execution_count": null,
   "id": "7b47a4b0",
   "metadata": {},
   "outputs": [],
   "source": [
    "from sklearn.linear_model import LogisticRegression"
   ]
  },
  {
   "cell_type": "code",
   "execution_count": null,
   "id": "06dbb0d6",
   "metadata": {},
   "outputs": [],
   "source": [
    "logistic=LogisticRegression()"
   ]
  },
  {
   "cell_type": "code",
   "execution_count": null,
   "id": "36d16d70",
   "metadata": {},
   "outputs": [],
   "source": [
    "logistic.fit(X_train,y_train)"
   ]
  },
  {
   "cell_type": "code",
   "execution_count": null,
   "id": "45cff964",
   "metadata": {},
   "outputs": [],
   "source": [
    "prediction=logistic.predict(X_test)"
   ]
  },
  {
   "cell_type": "code",
   "execution_count": null,
   "id": "0f0b463b",
   "metadata": {},
   "outputs": [],
   "source": [
    "prediction"
   ]
  },
  {
   "cell_type": "code",
   "execution_count": null,
   "id": "28f58db1",
   "metadata": {},
   "outputs": [],
   "source": [
    "from sklearn.metrics import accuracy_score,confusion_matrix\n",
    "\n",
    "# confusion matrix\n",
    "confusion_matrix=confusion_matrix(y_test,prediction)\n",
    "confusion_matrix"
   ]
  },
  {
   "cell_type": "code",
   "execution_count": null,
   "id": "83271587",
   "metadata": {},
   "outputs": [],
   "source": [
    "# calculating the accuracy\n",
    "accuracy_score=accuracy_score(y_test,prediction)\n",
    "accuracy_score"
   ]
  },
  {
   "cell_type": "markdown",
   "id": "d2e23c2e",
   "metadata": {},
   "source": [
    "## Conclusion \n",
    "###### Accuracy of model is 80.01%"
   ]
  },
  {
   "cell_type": "markdown",
   "id": "35bc5cb3",
   "metadata": {},
   "source": [
    "## Xgboost Model"
   ]
  },
  {
   "cell_type": "code",
   "execution_count": null,
   "id": "78a222f5",
   "metadata": {},
   "outputs": [],
   "source": [
    "%pip install xgboost"
   ]
  },
  {
   "cell_type": "code",
   "execution_count": null,
   "id": "b637e36c",
   "metadata": {},
   "outputs": [],
   "source": [
    "import xgboost as xgb"
   ]
  },
  {
   "cell_type": "code",
   "execution_count": null,
   "id": "543785d6",
   "metadata": {},
   "outputs": [],
   "source": [
    " xgb_cal=xgb.XGBClassifier( n_estimators = 10)"
   ]
  },
  {
   "cell_type": "code",
   "execution_count": null,
   "id": "e42f9288",
   "metadata": {},
   "outputs": [],
   "source": [
    "xgb_cal"
   ]
  },
  {
   "cell_type": "code",
   "execution_count": null,
   "id": "5b9befe3",
   "metadata": {},
   "outputs": [],
   "source": [
    "# Fit and predict from the model\n",
    "xgb_cal.fit(X_train,y_train)\n",
    "\n",
    "preds = xgb_cal.predict(X_test)"
   ]
  },
  {
   "cell_type": "code",
   "execution_count": null,
   "id": "1e7a72ae",
   "metadata": {},
   "outputs": [],
   "source": [
    "from sklearn import metrics\n",
    "accuracyList=[]\n",
    "modelList=[]\n",
    "# print the accuracy\n",
    "print(\"Accuracy:\",metrics.accuracy_score(y_test, preds))\n",
    "accuracyList.append(metrics.accuracy_score(y_test, preds))\n",
    "modelList.append(\"XGBoost\")"
   ]
  },
  {
   "cell_type": "markdown",
   "id": "1124d6f5",
   "metadata": {},
   "source": [
    "## Conclusion\n",
    "###### Accuracy of the Model is 80.23%"
   ]
  },
  {
   "cell_type": "markdown",
   "id": "9f41ec87",
   "metadata": {},
   "source": [
    "## Support Vector Classification(SVC)"
   ]
  },
  {
   "cell_type": "code",
   "execution_count": null,
   "id": "bfd80ca2",
   "metadata": {},
   "outputs": [],
   "source": [
    "from sklearn.svm import SVC\n",
    "model=SVC()\n"
   ]
  },
  {
   "cell_type": "code",
   "execution_count": null,
   "id": "f88f3166",
   "metadata": {},
   "outputs": [],
   "source": [
    "# fitting the model\n",
    "model.fit(X_train,y_train)"
   ]
  },
  {
   "cell_type": "code",
   "execution_count": null,
   "id": "95f9b647",
   "metadata": {},
   "outputs": [],
   "source": [
    "#prediction\n",
    "predict=model.predict(X_test)\n",
    "predict"
   ]
  },
  {
   "cell_type": "code",
   "execution_count": null,
   "id": "ece72bf6",
   "metadata": {},
   "outputs": [],
   "source": [
    "#calculating the accuracy\n",
    "svc_accuracy_score=accuracy_score(y_test,predict)\n",
    "svc_accuracy_score\n"
   ]
  },
  {
   "cell_type": "markdown",
   "id": "27dad133",
   "metadata": {},
   "source": [
    "## Conclusion\n",
    "###### Accuracy of Model is 76.20%"
   ]
  },
  {
   "cell_type": "code",
   "execution_count": null,
   "id": "f5fa0341",
   "metadata": {},
   "outputs": [],
   "source": []
  }
 ],
 "metadata": {
  "kernelspec": {
   "display_name": "Python 3 (ipykernel)",
   "language": "python",
   "name": "python3"
  },
  "language_info": {
   "codemirror_mode": {
    "name": "ipython",
    "version": 3
   },
   "file_extension": ".py",
   "mimetype": "text/x-python",
   "name": "python",
   "nbconvert_exporter": "python",
   "pygments_lexer": "ipython3",
   "version": "3.11.4"
  }
 },
 "nbformat": 4,
 "nbformat_minor": 5
}
